{
 "cells": [
  {
   "cell_type": "code",
   "execution_count": 165,
   "id": "05f09b7a-bc43-4f5e-880a-e3237d284fd6",
   "metadata": {},
   "outputs": [
    {
     "name": "stdout",
     "output_type": "stream",
     "text": [
      "\u001b[0;35mYou have already enabled qBraid Quantum Jobs in the amazon_braket environment.\u001b[0m\n",
      "2 3 5 7 8 "
     ]
    }
   ],
   "source": [
    "!qbraid jobs enable amazon_braket\n",
    "#corey's stuff\n",
    "\n",
    " \n",
    "# Recursive Function to find the\n",
    "# Maximal Independent Vertex Set   \n",
    "def graphSets(graph):\n",
    "     \n",
    "    # Base Case - Given Graph\n",
    "    # has no nodes\n",
    "    if(len(graph) == 0):\n",
    "        return []\n",
    "    \n",
    "    # Base Case - Given Graph\n",
    "    # has 1 node\n",
    "    if(len(graph) == 1):\n",
    "        return [list(graph.keys())[0]]\n",
    "     \n",
    "    # Select a vertex from the graph\n",
    "    vCurrent = list(graph.keys())[0]\n",
    "     \n",
    "    # Case 1 - Proceed removing\n",
    "    # the selected vertex\n",
    "    # from the Maximal Set\n",
    "    graph2 = dict(graph)\n",
    "     \n",
    "    # Delete current vertex\n",
    "    # from the Graph\n",
    "    del graph2[vCurrent]\n",
    "     \n",
    "    # Recursive call - Gets\n",
    "    # Maximal Set,\n",
    "    # assuming current Vertex\n",
    "    # not selected\n",
    "    res1 = graphSets(graph2)\n",
    "     \n",
    "    # Case 2 - Proceed considering\n",
    "    # the selected vertex as part\n",
    "    # of the Maximal Set\n",
    " \n",
    "    # Loop through its neighbours\n",
    "    for v in graph[vCurrent]:\n",
    "         \n",
    "        # Delete neighbor from\n",
    "        # the current subgraph\n",
    "        if(v in graph2):\n",
    "            del graph2[v]\n",
    "     \n",
    "    # This result set contains VFirst,\n",
    "    # and the result of recursive\n",
    "    # call assuming neighbors of vFirst\n",
    "    # are not selected\n",
    "    res2 = [vCurrent] + graphSets(graph2)\n",
    "     \n",
    "    # Our final result is the one\n",
    "    # which is bigger, return it\n",
    "    if(len(res1) > len(res2)):\n",
    "        return res1\n",
    "    return res2\n",
    " \n",
    "# Driver Code\n",
    "V = 8\n",
    " \n",
    "E = [ (1, 2),\n",
    "      (1, 3),\n",
    "      (2, 4),\n",
    "      (5, 6),\n",
    "      (6, 7),\n",
    "      (4, 8)]\n",
    " \n",
    "graph = dict([])\n",
    " \n",
    "# Constructs Graph as a dictionary\n",
    "# of the following format-\n",
    " \n",
    "# graph[VertexNumber V]\n",
    "# = list[Neighbors of Vertex V]\n",
    "for i in range(len(E)):\n",
    "    v1, v2 = E[i]\n",
    "     \n",
    "    if(v1 not in graph):\n",
    "        graph[v1] = []\n",
    "    if(v2 not in graph):\n",
    "        graph[v2] = []\n",
    "     \n",
    "    graph[v1].append(v2)\n",
    "    graph[v2].append(v1)\n",
    " \n",
    "# Recursive call considering\n",
    "# all vertices in the maximum\n",
    "# independent set\n",
    "maximalIndependentSet = graphSets(graph)\n",
    " \n",
    "# Prints the Result\n",
    "for i in maximalIndependentSet:\n",
    "    print(i, end =\" \")\n",
    "\n"
   ]
  },
  {
   "cell_type": "code",
   "execution_count": 166,
   "id": "5b0ab25d-cf12-4270-8612-4bd372f0f7bd",
   "metadata": {},
   "outputs": [
    {
     "name": "stdout",
     "output_type": "stream",
     "text": [
      "\u001b[0;35mYou have already enabled qBraid Quantum Jobs in the amazon_braket environment.\u001b[0m\n"
     ]
    }
   ],
   "source": [
    "!qbraid jobs enable amazon_braket\n",
    "import numpy as np\n",
    "import json\n",
    "import matplotlib.pyplot as plt\n",
    "from pprint import pprint as pp\n",
    "import networkx as nx"
   ]
  },
  {
   "cell_type": "code",
   "execution_count": 167,
   "id": "c2e85850-c5a4-4552-a562-60fbedf1a23d",
   "metadata": {},
   "outputs": [
    {
     "name": "stdout",
     "output_type": "stream",
     "text": [
      "{'braketSchemaHeader': {'name': 'braket.device_schema.quera.quera_ahs_paradigm_properties',\n",
      "                        'version': '1'},\n",
      " 'lattice': {'area': {'height': Decimal('0.000076'),\n",
      "                      'width': Decimal('0.000075')},\n",
      "             'geometry': {'numberSitesMax': 256,\n",
      "                          'positionResolution': Decimal('1E-7'),\n",
      "                          'spacingRadialMin': Decimal('0.000004'),\n",
      "                          'spacingVerticalMin': Decimal('0.000004')}},\n",
      " 'performance': {'lattice': {'positionErrorAbs': Decimal('1E-7')},\n",
      "                 'rydberg': {'rydbergGlobal': {'rabiFrequencyErrorRel': Decimal('0.02')}}},\n",
      " 'qubitCount': 256,\n",
      " 'rydberg': {'c6Coefficient': Decimal('5.42E-24'),\n",
      "             'rydbergGlobal': {'detuningRange': (Decimal('-125000000.0'),\n",
      "                                                 Decimal('125000000.0')),\n",
      "                               'detuningResolution': Decimal('0.2'),\n",
      "                               'detuningSlewRateMax': Decimal('2500000000000000.0'),\n",
      "                               'phaseRange': (Decimal('-99.0'),\n",
      "                                              Decimal('99.0')),\n",
      "                               'phaseResolution': Decimal('5E-7'),\n",
      "                               'rabiFrequencyRange': (Decimal('0.0'),\n",
      "                                                      Decimal('15800000.0')),\n",
      "                               'rabiFrequencyResolution': Decimal('400.0'),\n",
      "                               'rabiFrequencySlewRateMax': Decimal('250000000000000.0'),\n",
      "                               'timeDeltaMin': Decimal('5E-8'),\n",
      "                               'timeMax': Decimal('0.000004'),\n",
      "                               'timeMin': Decimal('0.0'),\n",
      "                               'timeResolution': Decimal('1E-9')}}}\n"
     ]
    }
   ],
   "source": [
    "from braket.aws import AwsDevice\n",
    "\n",
    "qpu = AwsDevice(\"arn:aws:braket:us-east-1::device/qpu/quera/Aquila\")\n",
    "\n",
    "# Capabilities, constraints and performance metrics are stored as 'paradigm' attribute of AwsDevice.\n",
    "capabilities = qpu.properties.paradigm\n",
    "pp(capabilities.dict())\n",
    "\n",
    "# get C6 coefficient in rad m^6/sec Pull from capabilities attribute\n",
    "C6 = float(capabilities.rydberg.dict()['c6Coefficient'])"
   ]
  },
  {
   "cell_type": "code",
   "execution_count": 168,
   "id": "47db7e7f-a003-4037-88ad-0ec688b47041",
   "metadata": {},
   "outputs": [
    {
     "name": "stdout",
     "output_type": "stream",
     "text": [
      "[[1, 0], [2, 0], [3, 0], [4, 0], [5, 0], [6, 0], [7, 1], [6, 2], [5, 2], [4, 2]]\n"
     ]
    },
    {
     "data": {
      "image/png": "[encoded data removed]",
      "text/plain": [
       "<Figure size 720x720 with 1 Axes>"
      ]
     },
     "metadata": {},
     "output_type": "display_data"
    }
   ],
   "source": [
    "from iquhack_utils import visualize_graph\n",
    "\n",
    "def kings_graph(numx,numy,filling=0.7,seed=None):\n",
    "    '''\n",
    "    Generate a next nearest neighbor graph with a lattice constant 1, with some number of nodes removed\n",
    "    numx    - number of grid points in the X direction\n",
    "    numy    - number of grid points in the Y direction\n",
    "    filling - Fraction of vertices to be kept. Total number of vertices is int(numx*numy*filling)\n",
    "    \n",
    "    Returns\n",
    "    pos     - [N x 2] array of points on a square grid\n",
    "    graph   - networkx connectivity graph\n",
    "    '''\n",
    "    xx,yy = np.meshgrid(range(numx),range(numy))\n",
    "    num_points = int(numx*numy*filling)\n",
    "    rand = np.random.default_rng(seed=seed)\n",
    "    # Generate points\n",
    "    points = np.array([xx.flatten(),yy.flatten()]).T\n",
    "    points = points[rand.permutation(numx*numy)[0:num_points],:]\n",
    "    #for point in points:\n",
    "        #print('point: ',  point)\n",
    "        #for x in point:\n",
    "            #print(\"coordinates: \", x)\n",
    "    \n",
    "    #points=np.array([[1,2],[1,3],[0,1]])\n",
    "\n",
    "    \n",
    "    points=[]\n",
    "\n",
    "    points.append([1,0])\n",
    "    points.append([2,0])\n",
    "    points.append([3,0])\n",
    "    points.append([4,0])\n",
    "    points.append([5,0])\n",
    "    points.append([6,0])\n",
    "    points.append([7,1])\n",
    "    points.append([6,2])\n",
    "    points.append([5,2])\n",
    "    points.append([4,2])\n",
    "        \n",
    "        \n",
    "    print(points)\n",
    "    points=np.array(points)\n",
    "    #print(\"test: \" , points[:0])\n",
    "    # Generate a unit disk graph by thresholding distances between points.\n",
    "    distances = np.sqrt((points[:,0] - points[:,0,None])**2 + (points[:,1] - points[:,1,None])**2)\n",
    "    graph     = nx.Graph(distances<=np.sqrt(2))#+1E-10)\n",
    "    \n",
    "    graph.remove_edges_from(nx.selfloop_edges(graph))\n",
    "    return points, graph\n",
    "\n",
    "# Make a small king's graph\n",
    "pos,small_G = kings_graph(4,4,0.6,seed = 1)\n",
    "\n",
    "\n",
    "\n",
    "fig = plt.figure(figsize=(10,10))\n",
    "ax = plt.subplot(1,1,1)\n",
    "visualize_graph(ax,small_G,pos)\n",
    "plt.show()"
   ]
  },
  {
   "cell_type": "code",
   "execution_count": 169,
   "id": "385e0886-b252-4adf-b6e0-b7b1bf2333b6",
   "metadata": {},
   "outputs": [
    {
     "data": {
      "image/png": "[encoded data removed]",
      "text/plain": [
       "<Figure size 432x288 with 1 Axes>"
      ]
     },
     "metadata": {},
     "output_type": "display_data"
    }
   ],
   "source": [
    "def find_UDG_radius(position, graph):\n",
    "    '''\n",
    "    Computes the optimal unit disk radius for a particular set of positions and graph.\n",
    "    position   - [N x 2] array of points\n",
    "    graph       - network connectivity graph. This should be a unit disk graph.\n",
    "    \n",
    "    returns\n",
    "    radius      - Optimal unit disk radius of the graph\n",
    "    rmin        - Minimum distance\n",
    "    rmax        - Maximum distance\n",
    "    '''\n",
    "    \n",
    "    dists = np.sqrt((position[:,0,None] - position[:,0])**2\n",
    "               + (position[:,1,None] - position[:,1])**2)\n",
    "    rmin = 0\n",
    "    rmax = np.inf\n",
    "    for i in range(position.shape[0]):\n",
    "        for j in range(i+1,position.shape[0]):\n",
    "            if (i,j) in graph.edges:\n",
    "                if rmin<dists[i,j]:\n",
    "                    rmin = dists[i,j]\n",
    "            elif (i,j) not in graph.edges:\n",
    "                if rmax>dists[i,j]:\n",
    "                    rmax = dists[i,j]\n",
    "    \n",
    "    if rmin>rmax:\n",
    "        print(rmin,rmax)\n",
    "        raise BaseException(\"Graph is not a unit disk graph!\")\n",
    "    \n",
    "    return np.sqrt(rmin*rmax),rmin,rmax\n",
    "\n",
    "# Find unit disk radius\n",
    "unitdisk_radius,min_radius,max_radius = find_UDG_radius(pos,small_G)\n",
    "\n",
    "\n",
    "\n",
    "\n",
    "# Visualize using networkx\n",
    "fig = plt.figure()\n",
    "ax = plt.subplot(1,1,1)\n",
    "visualize_graph(ax,small_G,pos)\n",
    "\n",
    "\n",
    "# Draw the minimum and maximum unit disk radius of the graph\n",
    "x0,y0 = (2,0)\n",
    "angles = np.linspace(np.pi/2,np.pi,1001)\n",
    "ax.plot(min_radius*np.cos(angles)+x0,min_radius*np.sin(angles)+y0,\n",
    "        linestyle=\":\",color=\"red\",label=\"$R_{min}$\")\n",
    "ax.plot(unitdisk_radius*np.cos(angles)+x0,unitdisk_radius*np.sin(angles)+y0,\n",
    "        linestyle=\"--\",color=\"red\",label=\"$\\sqrt{R_{max}R_{min}}$\")\n",
    "ax.plot(max_radius*np.cos(angles)+x0,max_radius*np.sin(angles)+y0,\n",
    "        linestyle=\"-\",color=\"red\",label=\"$R_{max}$\")\n",
    "\n",
    "ax.scatter(x0,y0,color=\"red\",zorder=3,marker=\"o\",s=350)\n",
    "ax.set_xlim((-0.25,3))\n",
    "plt.legend(loc=\"upper right\",)\n",
    "plt.show()"
   ]
  },
  {
   "cell_type": "code",
   "execution_count": 170,
   "id": "10ac48c7-e642-4108-9fea-b4c845426899",
   "metadata": {},
   "outputs": [
    {
     "name": "stdout",
     "output_type": "stream",
     "text": [
      "Blockade radius of Rydberg system is 8.044e-06m\n",
      "Unit disk radius of logical graph is 1.682\n"
     ]
    },
    {
     "data": {
      "image/png": "[encoded data removed]",
      "text/plain": [
       "<Figure size 504x504 with 1 Axes>"
      ]
     },
     "metadata": {
      "needs_background": "light"
     },
     "output_type": "display_data"
    }
   ],
   "source": [
    "from iquhack_utils import get_blockade_radius,C6\n",
    "Delta_final = 20e6 # rad/sec\n",
    "\n",
    "# Find blockade radius\n",
    "blockade_radius = get_blockade_radius(Delta_final, 0) # no rabi amplitude at the end\n",
    "#blockade_radius = 7.5e-6\n",
    "print('Blockade radius of Rydberg system is {:0.3e}m'.format(blockade_radius))\n",
    "print('Unit disk radius of logical graph is {:0.3f}'.format(unitdisk_radius))\n",
    "\n",
    "# Compute scaling value a, which converts between logical and physical coordinates\n",
    "a = blockade_radius / unitdisk_radius\n",
    "\n",
    "# Generate the atom register\n",
    "from braket.ahs.atom_arrangement import AtomArrangement\n",
    "small_register = AtomArrangement()\n",
    "for x in pos:\n",
    "    small_register.add((a * x).round(7))\n",
    "    \n",
    "    \n",
    "from quera_ahs_utils.plotting import show_register\n",
    "show_register(small_register,blockade_radius = a*1.5)\n"
   ]
  },
  {
   "cell_type": "code",
   "execution_count": 171,
   "id": "f6640a71-1756-420e-a7cf-e543136fb2ad",
   "metadata": {},
   "outputs": [
    {
     "data": {
      "image/png": "[encoded data removed]",
      "text/plain": [
       "<Figure size 504x504 with 3 Axes>"
      ]
     },
     "metadata": {
      "needs_background": "light"
     },
     "output_type": "display_data"
    }
   ],
   "source": [
    "# Define a set of time points\n",
    "time_points = [0, 0.6e-6, 3.4e-6, 4e-6]\n",
    "\n",
    "# Define the strength of the transverse field Ω\n",
    "amplitude_min = 0\n",
    "amplitude_max = 10e6  # rad / sec\n",
    "\n",
    "# Define the strength of the detuning Δ\n",
    "Delta_initial = -20e6     # rad / sec\n",
    "Delta_final = Delta_final # Defined above\n",
    "\n",
    "# Define the total drive\n",
    "from quera_ahs_utils.plotting import show_global_drive\n",
    "from quera_ahs_utils.drive import get_drive \n",
    "\n",
    "amplitude_values = [amplitude_min, amplitude_max, amplitude_max, amplitude_min]  # piecewise linear\n",
    "detuning_values = [Delta_initial, Delta_initial, Delta_final, Delta_final]  # piecewise linear\n",
    "phase_values = [-25, -25, -20, -20]  # piecewise constant\n",
    "\n",
    "\n",
    "# Define the drive\n",
    "drive = get_drive(time_points, amplitude_values, detuning_values, phase_values)\n",
    "show_global_drive(drive);"
   ]
  },
  {
   "cell_type": "code",
   "execution_count": 172,
   "id": "ab0f6485-56db-47dc-ac15-50f842678fa7",
   "metadata": {},
   "outputs": [],
   "source": [
    "from braket.ahs.analog_hamiltonian_simulation import AnalogHamiltonianSimulation\n",
    "small_ahs_program = AnalogHamiltonianSimulation(\n",
    "    register=small_register, \n",
    "    hamiltonian=drive\n",
    ")"
   ]
  },
  {
   "cell_type": "code",
   "execution_count": 173,
   "id": "f23da4e6-fe03-42e5-aa25-bd0a2c7728c2",
   "metadata": {},
   "outputs": [],
   "source": [
    "from braket.devices import LocalSimulator\n",
    "device = LocalSimulator(\"braket_ahs\")\n",
    "small_ahs_run = device.run(small_ahs_program, shots=50)\n",
    "\n",
    "\n",
    "def save_result_json(json_file,result):\n",
    "    '''\n",
    "    Helper function to save results locally\n",
    "    '''\n",
    "    result_dict = {\"measurements\":[]}\n",
    "    for measurement in result.measurements:\n",
    "        shot_result = {\n",
    "            \"pre_sequence\":[int(qubit) for qubit in measurement.pre_sequence],\n",
    "            \"post_sequence\":[int(qubit) for qubit in measurement.post_sequence]\n",
    "                      } \n",
    "        result_dict[\"measurements\"].append(shot_result)\n",
    "        \n",
    "    with open(json_file,\"w\") as io:\n",
    "        json.dump(result_dict,io,indent=2)\n",
    "        \n",
    "def open_json(json_file):\n",
    "    '''\n",
    "    Helper function to load and open json data\n",
    "    '''\n",
    "    with open(json_file,\"r\") as io:\n",
    "        return json.load(io) \n",
    "\n",
    "    \n",
    "# Results are loaded and saved to file\n",
    "result  = small_ahs_run.result()\n",
    "save_result_json(\"classical_results/small_kings_graph_mis_trial_5.json\",result)\n"
   ]
  },
  {
   "cell_type": "code",
   "execution_count": 174,
   "id": "b55aa0ab-d318-41fa-9b58-182ecc18953e",
   "metadata": {},
   "outputs": [
    {
     "data": {
      "image/png": "[encoded data removed]",
      "text/plain": [
       "<Figure size 1800x1080 with 3 Axes>"
      ]
     },
     "metadata": {},
     "output_type": "display_data"
    }
   ],
   "source": [
    "trial_file = \"classical_results/small_kings_graph_mis_trial_5.json\"\n",
    "result_json = open_json(trial_file)\n",
    "nmeas = len(result_json[\"measurements\"])    \n",
    "seqs = [result_json[\"measurements\"][i][\"post_sequence\"] for i in [0,1,nmeas-1]]\n",
    "\n",
    "fig = plt.figure(figsize=(25,15))\n",
    "for i in range(3):\n",
    "    ax = plt.subplot(1,3,i+1)\n",
    "    \n",
    "    color_lookup = {0:\"r\",1:'k'}\n",
    "    seqs_color = [color_lookup[seqs[i][j]] for j in range(len(seqs[i]))]\n",
    "    visualize_graph(ax,small_G,pos,node_colors = seqs_color)\n",
    "    \n",
    "plt.show()"
   ]
  },
  {
   "cell_type": "code",
   "execution_count": 175,
   "id": "4f9aaaac-4035-4a19-80f1-1fc123be6765",
   "metadata": {},
   "outputs": [],
   "source": [
    "def postprocess_MIS(G,results):\n",
    "    '''\n",
    "    Removes vertices that violate the independent set condition\n",
    "    G - networkx graph\n",
    "    results - an AWS AnalogHamiltonianSimulationQuantumTaskResult\n",
    "    \n",
    "    returns\n",
    "    data_out - a list of bitstrings which are valid independent sets of G\n",
    "    '''\n",
    "    data_out = []\n",
    "    for measurement in results[\"measurements\"]: # For each measurement...\n",
    "        pre_sequence = np.array(measurement[\"pre_sequence\"])\n",
    "        post_sequence = np.array(measurement[\"post_sequence\"])\n",
    "        if np.any(pre_sequence==0): continue # skip anyshots with defects\n",
    "            \n",
    "        bitstring = post_sequence\n",
    "        inds = np.nonzero(bitstring==0)[0]    # Find indices of IS vertices\n",
    "        if len(inds) == 0: continue\n",
    "        subgraph = nx.subgraph(G,inds)        # Generate a subgraph from those vertices. If the bitstring is an independent set, this subgraph has no edges.\n",
    "        inds2 = nx.maximal_independent_set(subgraph,seed=0) # Find the mIS of this subgraph. If there are no edges, it is the original bitstring. Else, it randomly chooses within each graph.\n",
    "        payload = np.ones(len(bitstring))     # Forge into the correct data structure (a list of 1s and 0s)\n",
    "        payload[inds2] = 0\n",
    "        data_out.append(payload)\n",
    "        \n",
    "    if len(data_out) == 0: \n",
    "        raise ValueError(\"no independent sets found! increase number of shots.\")\n",
    "        \n",
    "    return np.asarray(data_out)\n",
    "\n",
    "def analysis_MIS(graph,result_json):\n",
    "    '''\n",
    "    Helper function to analyze a MIS result and plot data\n",
    "    '''\n",
    "\n",
    "    post_bitstrings = np.array([q[\"post_sequence\"] for q in result_json[\"measurements\"]])\n",
    "    pp_bitstrings = postprocess_MIS(graph, result_json)\n",
    "\n",
    "\n",
    "    IS_sizes = np.sum(1-pp_bitstrings,axis=1)\n",
    "    unique_IS_sizes,counts = np.unique(IS_sizes,return_counts=True)\n",
    "\n",
    "\n",
    "    avg_no_pp = 'Average pre-processed size:  {:0.4f}'.format( (1-post_bitstrings).sum(axis=1).mean() )\n",
    "    avg_pp = 'Average post-processed IS size: {:0.4f}'.format(IS_sizes.mean())\n",
    "    print(avg_no_pp)\n",
    "    print(avg_pp)\n",
    "    plt.bar(unique_IS_sizes,counts/counts.sum())\n",
    "    plt.xticks(unique_IS_sizes)\n",
    "    plt.xlabel(\"IS sizes\",fontsize=14)\n",
    "    plt.ylabel(\"probability\",fontsize=14)\n",
    "    plt.show()\n",
    "    \n",
    "    return IS_sizes,pp_bitstrings\n",
    "    \n",
    "\n"
   ]
  },
  {
   "cell_type": "code",
   "execution_count": 176,
   "id": "c82602ba-5305-43a7-be0e-e3d9f0d5d5dd",
   "metadata": {},
   "outputs": [
    {
     "name": "stdout",
     "output_type": "stream",
     "text": [
      "Average pre-processed size:  4.7200\n",
      "Average post-processed IS size: 4.7200\n"
     ]
    },
    {
     "data": {
      "image/png": "[encoded data removed]",
      "text/plain": [
       "<Figure size 432x288 with 1 Axes>"
      ]
     },
     "metadata": {
      "needs_background": "light"
     },
     "output_type": "display_data"
    }
   ],
   "source": [
    "result_json = open_json(trial_file)\n",
    "\n",
    "# for result in result_json[\"measurements\"]:\n",
    "#     print(result)\n",
    "\n",
    "IS_sizes,pp_bitstrings = analysis_MIS(small_G,result_json)\n",
    "\n",
    "\n",
    "# ind, = np.where(IS_sizes==IS_sizes.max())\n",
    "# n_show = min(len(ind),3)\n",
    "\n",
    "# fig = plt.figure(figsize=(25,15))\n",
    "# for i in range(n_show):\n",
    "#     ax = plt.subplot(1,n_show,i+1)\n",
    "\n",
    "#     color_lookup = {0:\"r\",1:'k'}\n",
    "#     seqs_color = [color_lookup[pp_bitstrings[ind[i]][j]] for j in range(len(pp_bitstrings[ind[i]]))]\n",
    "#     visualize_graph(ax,small_G,pos,node_colors = seqs_color)\n",
    "    \n",
    "# plt.show()\n",
    "    \n",
    "\n",
    "\n",
    "    "
   ]
  },
  {
   "cell_type": "code",
   "execution_count": null,
   "id": "8dee86cf-1e13-416f-a670-c038f54fdf7f",
   "metadata": {},
   "outputs": [],
   "source": []
  }
 ],
 "metadata": {
  "kernelspec": {
   "display_name": "Python 3 [Braket]",
   "language": "python",
   "name": "python3_aws_braket_kwx6dl"
  },
  "language_info": {
   "codemirror_mode": {
    "name": "ipython",
    "version": 3
   },
   "file_extension": ".py",
   "mimetype": "text/x-python",
   "name": "python",
   "nbconvert_exporter": "python",
   "pygments_lexer": "ipython3",
   "version": "3.9.10"
  }
 },
 "nbformat": 4,
 "nbformat_minor": 5
}
